{
  "nbformat": 4,
  "nbformat_minor": 0,
  "metadata": {
    "colab": {
      "provenance": []
    },
    "kernelspec": {
      "name": "python3",
      "display_name": "Python 3"
    },
    "language_info": {
      "name": "python"
    }
  },
  "cells": [
    {
      "cell_type": "markdown",
      "source": [
        "HMC with Chroma\n",
        "\n",
        "\n",
        "The partition function for Lattice QCD (LQCD) in the Feynman path integral formalism is given by:\n",
        "$Z = \\int D U D\\psi D\\bar{\\psi} \\, e^{-S_E[U, \\psi, \\bar{\\psi}]}$\n",
        "\n",
        "$ C = <O1 O2 >  = \\int D U D\\psi D\\bar{\\psi} \\, e^{-S_E[U, \\psi, \\bar{\\psi}]} O_1 O_2$\n",
        "\n",
        "\n",
        "To compute C, we use importance sampling and Monte Carlo methods and there we want to compute.\n",
        "\n",
        "We first need to generate an ensemble of the most relevant gauge field configurations, to this end we sample from the distribution $e^{-S}$\n",
        "\n",
        "Our first task is to used Chroma to generate the gauge fields. For this we need a method, which HMC and molecular dynamics and an actions.\n",
        "\n",
        "HMC and molecular dynamics correspond to algorithmic aspect and chosing S will determine the physics.\n",
        "\n",
        "\n",
        "Chosing S.\n",
        "The gauge terms in the action are included by means of gauge monomial.\n",
        "The fermion terms will determine how many sea fermions our ensemble has. For example, it wouldn't make sense to compute quantities where strange quarks can couple to sea quarks with an action that does not have strange quarks.\n",
        "For our tests we will use a 2+1 action, meaning to degenerate light quarks and one strange quark. This means we require three terms in the actions. For every quark flavor, we need to determine the quark mass.\n",
        "\n",
        "\n",
        "Run multiple test and compare performance\n",
        "\n",
        "\n",
        "\n",
        "\n",
        "\n",
        "\n",
        "\n",
        "\n",
        "\n",
        "\n",
        "\n",
        "\n",
        "\n",
        "\n",
        "\n",
        "\n",
        "\n",
        "\n",
        "\n",
        "\n",
        "\n"
      ],
      "metadata": {
        "id": "nIkeUPQ9k0gI"
      }
    },
    {
      "cell_type": "markdown",
      "source": [
        "#Generating a gauge ensemble\n",
        "\n",
        "## Markov Chains\n",
        "\n",
        "\n",
        "\n",
        "## Metropolis algorithm\n",
        "This algorith is designed to advance a markov chain from a step n-1 to a step n.\n",
        "For a gauge field U given a distribution $P (U ) ∝ exp(−S[U])$ steps are the following:\n",
        "\n",
        "\n",
        "1. Generate a candidate configuration U′ according to some a priori\n",
        "selection probability $T_0(U′|U )$, where $U= U_{n−1}$\n",
        "\n",
        "2. Accept the candidate configuration $U′$ as the new configuration Un\n",
        "with the acceptance probability\n",
        "$T_A(U ′|U ) = min( 1,\\frac{\n",
        "T_0(U |U ′) exp (−S[U′])}{\n",
        "T_0(U ′|U ) exp (−S[U])})$.\n",
        "\n",
        "3.Repeat the previous step.\n",
        "\n",
        "It is straightforward to see that the total transition probability T= T0 TA\n",
        "fulfills the detailed balance condition\n",
        "$$\n",
        "\\begin{align*}\n",
        "T(U ′|U )e^{−S[U ]}\n",
        "&= T_0(U ′|U ) min( 1,\n",
        "T_0(U |U ′) e^{−S[U ′]}\n",
        "T_0(U ′|U ) e^{−S[U ]} e^{−S[U ]}\\\\\n",
        "&= min (T_0(U ′|U ) e^{−S[U ]}, T_0(U |U ′) e^{−S[U ′]})\\\\\n",
        "&= T (U |U ′) e^{−S[U ′]}\n",
        "\\end{align*}\n",
        "$$\n",
        "\n",
        "due to the positivity of all factors and the symmetry of the min operation. In\n",
        "many cases one uses a symmetric selection probability which obeys\n",
        "T0(U |U ′) = T0(U ′|U ). (4.18)\n",
        "In this case (4.16) simplifies to\n",
        "TA(U ′|U ) = min (1, exp (−∆S)) with ∆S= S[U ′]− S[U ].\n",
        "\n",
        "#Chosing the S\n",
        "\n",
        "We need to chose the lattice action. For this we need to decide how many quarks we will have that will determine the number of monomials and the discretization.\n",
        "\n",
        "For this exercise we will have the following options.\n",
        "\n",
        "TWO_FLAVOR_EOPREC-> N_FLAVOR_LOGDET_EVEN_EVEN_FERM_MONOMIAL,TWO_FLAVOR_EOPREC_CONSTDET_FERM_MONOMIAL\n",
        "\n",
        "ONE_FLAVOR_EOPREC_CONSTDET_FERM_RAT_MONOMIAL\n",
        "\n",
        "GAUGE_MONOMIAL\n",
        "\n",
        "##Chosing the monomials\n",
        "\n",
        "\n",
        "##Chosing the discretization\n",
        "\n",
        "##Chosing computational parameters\n"
      ],
      "metadata": {
        "id": "2crgXYT0_Oad"
      }
    },
    {
      "cell_type": "markdown",
      "source": [
        "# Setting up Chroma\n",
        "The next 3 cells will help you set up chroma for our tests"
      ],
      "metadata": {
        "id": "DdfYBAcykShG"
      }
    },
    {
      "cell_type": "code",
      "execution_count": 18,
      "metadata": {
        "colab": {
          "base_uri": "https://localhost:8080/"
        },
        "collapsed": true,
        "id": "UylFW1LGEp2k",
        "outputId": "c436289e-17fd-49de-d662-c864c050bbad"
      },
      "outputs": [
        {
          "output_type": "stream",
          "name": "stdout",
          "text": [
            "mkdir: cannot create directory ‘/home/software’: File exists\n",
            "/home/software\n",
            "Downloading...\n",
            "From (original): https://drive.google.com/uc?id=16woEAYY0VPJqufF2574Q1AM2NFh13qH1\n",
            "From (redirected): https://drive.google.com/uc?id=16woEAYY0VPJqufF2574Q1AM2NFh13qH1&confirm=t&uuid=50e92b9e-71bc-425f-a6a4-5b62f7a429df\n",
            "To: /home/software/chroma.zip\n",
            "100% 175M/175M [00:02<00:00, 60.6MB/s]\n",
            "Archive:  chroma.zip\n",
            "replace __MACOSX/._chroma? [y]es, [n]o, [A]ll, [N]one, [r]ename: N\n",
            "/home\n",
            "fatal: destination path 'chroma_gcolab' already exists and is not an empty directory.\n",
            "mv: cannot move 'chroma_gcolab/tests' to './tests': Directory not empty\n",
            "/home/chroma_gcolab\n",
            "Already up to date.\n"
          ]
        }
      ],
      "source": [
        "%mkdir /home/software\n",
        "%cd /home/software\n",
        "!gdown https://drive.google.com/uc?id=16woEAYY0VPJqufF2574Q1AM2NFh13qH1\n",
        "!unzip chroma.zip\n",
        "!rm chroma.zip\n",
        "!chmod u+rwx /home/software/chroma/install/chroma/bin/*\n",
        "%cd /home\n",
        "!git clone https://github.com/henrymonge/chroma_gcolab.git\n",
        "!mv chroma_gcolab/tests .\n",
        "%cd /home/chroma_gcolab\n",
        "!git pull\n",
        "%cp /home/chroma_gcolab/tests/* /home/tests/"
      ]
    },
    {
      "cell_type": "code",
      "source": [
        "%cd /home/software/chroma\n",
        "%env TOPDIR_HIP=/home/software/chroma\n",
        "%env INSTALLROOT=${TOPDIR_HIP}/install\n",
        "%env LD_LIBRARY_PATH=/home/software/chroma/install/chroma/lib:/home/software/chroma/install/qdpxx/lib:/home/software/chroma/install/qmp/lib"
      ],
      "metadata": {
        "colab": {
          "base_uri": "https://localhost:8080/"
        },
        "collapsed": true,
        "id": "XPzUcOjdFmrm",
        "outputId": "3c4e257b-a74e-4dcb-8764-25579f12a279"
      },
      "execution_count": 21,
      "outputs": [
        {
          "output_type": "stream",
          "name": "stdout",
          "text": [
            "/home/software/chroma\n",
            "env: TOPDIR_HIP=/home/software/chroma\n",
            "env: INSTALLROOT=${TOPDIR_HIP}/install\n",
            "env: LD_LIBRARY_PATH=/home/software/chroma/install/chroma/lib:/home/software/chroma/install/qdpxx/lib:/home/software/chroma/install/qmp/lib\n"
          ]
        }
      ]
    },
    {
      "cell_type": "code",
      "source": [
        "#%mkdir /home/tests/xml\n",
        "%%bash\n",
        "#ini=/home/software/chroma/hmc.prec_wilson.ini.xml\n",
        "ini=/home/tests/hmc.ini.xml\n",
        "out=/home/tests/xml/hmc.prec_wilson.out\n",
        "log=/home/tests/xml/hmc.prec_wilson.log\n",
        "stdout=/home/tests/hmc.prec_wilson.stdout\n",
        "echo $ini"
      ],
      "metadata": {
        "colab": {
          "base_uri": "https://localhost:8080/"
        },
        "id": "TDDLnsrEqiS4",
        "outputId": "e82502da-2aea-4660-beb5-a96ac6c75d0d"
      },
      "execution_count": 137,
      "outputs": [
        {
          "output_type": "stream",
          "name": "stdout",
          "text": [
            "/home/tests/hmc.ini.xml\n"
          ]
        }
      ]
    },
    {
      "cell_type": "code",
      "source": [
        "!/home/software/chroma/install/chroma/bin/hmc -geom 1 1 1 1 -i $ini -o $out -l $log > $stdout 2>&1"
      ],
      "metadata": {
        "collapsed": true,
        "id": "dCi9ks7vT109"
      },
      "execution_count": 139,
      "outputs": []
    },
    {
      "cell_type": "markdown",
      "source": [
        "# Choosing the action\n",
        "\n",
        "We need to chose the lattice action. For this we need to decide how many quarks we will have that will determine the number of monomials and the discretization.\n",
        "\n",
        "For this exercise we will have the following options.\n",
        "\n",
        "TWO_FLAVOR_EOPREC-> N_FLAVOR_LOGDET_EVEN_EVEN_FERM_MONOMIAL,TWO_FLAVOR_EOPREC_CONSTDET_FERM_MONOMIAL\n",
        "\n",
        "ONE_FLAVOR_EOPREC_CONSTDET_FERM_RAT_MONOMIAL\n",
        "\n",
        "GAUGE_MONOMIAL\n",
        "\n"
      ],
      "metadata": {
        "id": "kZ47tCqTU_gV"
      }
    },
    {
      "cell_type": "code",
      "source": [
        "#Monomials\n",
        "#Gauge Monomials\n",
        "#Fermion Monomials\n",
        "params['Monomials']={'GAUGE_MONOMIAL':{},\n",
        "                     'ONE_FLAVOR_EOPREC':{},\n",
        "                     'TWO_FLAVOR_EOPREC':{}}\n",
        "\n",
        "params['Monomials']['GAUGE_MONOMIAL']={'ACTION':'WILSON_GAUGEACT',\n",
        "                                      'BETA':'3.4','ID':'HMC::gauge'}\n",
        "params['Monomials']['ONE_FLAVOR_EOPREC']={'ACTION':'CLOVER',\n",
        "                                          'MASS':'-0.04','CLOV_COEFF':'1.2','ID':'HMC::strange'}\n",
        "params['Monomials']['TWO_FLAVOR_EOPREC']={'ACTION':'CLOVER','MASS':'-0.02',\n",
        "                                          'CLOV_COEFF':'1.2','ID':'HMC::light'}\n",
        "\n",
        "params['Monomial_ids']=''\n",
        "\n",
        "for m in params['Monomials'].keys():\n",
        "    if 'TWO_FLAVOR_EOPREC' in m:\n",
        "      params['Monomial_ids']+='\\t\\t\\t\\t\\t<elem>'+params['Monomials'][m]['ID']+'_ee</elem>\\n'\n",
        "      params['Monomial_ids']+='\\t\\t\\t\\t\\t<elem>'+params['Monomials'][m]['ID']+'_oo</elem>\\n'\n",
        "    else:\n",
        "      params['Monomial_ids']+='\\t\\t\\t\\t\\t<elem>'+params['Monomials'][m]['ID']+'</elem>\\n'\n",
        "print(params['Monomial_ids'])\n",
        "\n"
      ],
      "metadata": {
        "colab": {
          "base_uri": "https://localhost:8080/"
        },
        "id": "Aln2TjrZvv_O",
        "outputId": "fb4aff8c-ef9e-4543-e504-81270d7398d1"
      },
      "execution_count": 135,
      "outputs": [
        {
          "output_type": "stream",
          "name": "stdout",
          "text": [
            "\t\t\t\t\t<elem>HMC::gauge</elem>\n",
            "\t\t\t\t\t<elem>HMC::strange</elem>\n",
            "\t\t\t\t\t<elem>HMC::light_ee</elem>\n",
            "\t\t\t\t\t<elem>HMC::light_oo</elem>\n",
            "\n"
          ]
        }
      ]
    },
    {
      "cell_type": "code",
      "source": [],
      "metadata": {
        "id": "IOCvFT-F4XwE"
      },
      "execution_count": null,
      "outputs": []
    },
    {
      "cell_type": "markdown",
      "source": [
        "# Chosing the HMC parameters\n",
        "\n",
        "Integrator\n",
        "\n",
        "LCM_STS_LEAPFROG\n"
      ],
      "metadata": {
        "id": "xkbPu1QpXpPE"
      }
    },
    {
      "cell_type": "code",
      "source": [
        "#MD integrator\n",
        "params['integrator']={'NAME':'LCM_STS_LEAPFROG','NSTEPS':'12'}"
      ],
      "metadata": {
        "id": "ixF7s7IVwnB8"
      },
      "execution_count": 119,
      "outputs": []
    },
    {
      "cell_type": "code",
      "source": [
        "%cd /home/tests/\n",
        "import importlib\n",
        "import xml_input\n",
        "importlib.reload(xml_input)\n",
        "print(xml_input.monomials.keys())\n",
        "print(xml_input.integrators.keys())\n",
        "monomials=''\n",
        "\n",
        "for m in params['Monomials'].keys():\n",
        "  print(m)\n",
        "  print(xml_input.monomials[m]%params['Monomials'][m])\n",
        "  monomials+=xml_input.monomials[m]%params['Monomials'][m]\n",
        "\n",
        "print(params['integrator']['NAME'])\n",
        "integrator=params['integrator']['NAME']\n",
        "\n",
        "print(xml_input.integrators[integrator])\n",
        "print(xml_input.integrators[integrator]%params['integrator'])"
      ],
      "metadata": {
        "colab": {
          "base_uri": "https://localhost:8080/"
        },
        "collapsed": true,
        "id": "fiq8NC2SyA4W",
        "outputId": "95320cd8-b70a-4fee-bed3-e49ca89230f2"
      },
      "execution_count": 131,
      "outputs": [
        {
          "output_type": "stream",
          "name": "stdout",
          "text": [
            "/home/tests\n",
            "dict_keys(['TWO_FLAVOR_EOPREC', 'ONE_FLAVOR_EOPREC', 'GAUGE_MONOMIAL'])\n",
            "dict_keys(['LCM_STS_LEAPFROG'])\n",
            "GAUGE_MONOMIAL\n",
            "\n",
            "      <elem>\n",
            "    <Name>GAUGE_MONOMIAL</Name>\n",
            "    <GaugeAction>\n",
            "       <Name>WILSON_GAUGEACT</Name>\n",
            "       <beta>3.4</beta>\n",
            "       <GaugeBC>\n",
            "        <Name>PERIODIC_GAUGEBC</Name>\n",
            "           </GaugeBC>\n",
            "        </GaugeAction>\n",
            "    <NamedObject>\n",
            "      <monomial_id>HMC::gauge</monomial_id>\n",
            "        </NamedObject>\n",
            "      </elem>\n",
            "\n",
            "ONE_FLAVOR_EOPREC\n",
            "\n",
            "      <elem>\n",
            "        <Name>ONE_FLAVOR_EOPREC_CONSTDET_FERM_RAT_MONOMIAL</Name>\n",
            "        <num_pf>1</num_pf>\n",
            "        <Action>\n",
            "          <FermionAction>\n",
            "           <FermAct>CLOVER</FermAct>\n",
            "            <Mass>-0.04</Mass>\n",
            "            <clovCoeff>1.2</clovCoeff>\n",
            "            <FermState>\n",
            "              <Name>SIMPLE_FERM_STATE</Name>\n",
            "              <FermionBC>\n",
            "                <FermBC>SIMPLE_FERMBC</FermBC>\n",
            "                <boundary>1 1 1 -1</boundary>\n",
            "              </FermionBC>\n",
            "            </FermState>\n",
            "          </FermionAction>\n",
            "          <ActionApprox>\n",
            "            <RationalApprox>\n",
            "              <ratApproxType>READ_COEFFS</ratApproxType>\n",
            "              <Param>\n",
            "                <lowerMin>2.0e-4</lowerMin>\n",
            "                <upperMax>10</upperMax>\n",
            "                <numPower>-1</numPower>\n",
            "                <denPower>4</denPower>\n",
            "                <degree>13</degree>\n",
            "              </Param>\n",
            "              <ApproxInfo>\n",
            "                <lowerMin>0.0002</lowerMin>\n",
            "                <upperMax>10</upperMax>\n",
            "                <degree>13</degree>\n",
            "                <error>8.53359759155053e-09</error>\n",
            "              </ApproxInfo>\n",
            "              <PFECoeffs>\n",
            "                <norm>0.235485866818045</norm>\n",
            "                <res>0.000225192428610066 0.000493198674487029 0.00101098944690569\n",
            "                  0.00210966479427735 0.00445341664197467 0.00945108960561729 0.0201221040804977\n",
            "                  0.0430335164962971 0.0930149163490357 0.206877941073909 0.49800938741062\n",
            "                  1.50426604429933 9.64588011579469</res>\n",
            "                <pole>2.13984298644252e-05 0.000167952110725128 0.00060887602643753\n",
            "                  0.00182959869647478 0.00517440200375724 0.0143300682933111 0.039414086340563\n",
            "                  0.108339010139494 0.299267597111873 0.840081382951181 2.47015136430147\n",
            "                  8.35141226703362 47.1440813696294</pole>\n",
            "              </PFECoeffs>\n",
            "              <IPFECoeffs>\n",
            "                <norm>4.24653935079968</norm>\n",
            "                <res>-1.83558710964104e-06 -9.12204689643441e-06 -3.45205646515825e-05\n",
            "                  -0.000123982091699911 -0.000439259033038762 -0.0015506886355438\n",
            "                  -0.00547845322979375 -0.0194658268078658 -0.0703494148580012 -0.266556492901423\n",
            "                  -1.15339049324629 -7.39500484641764 -208.006767009261</res>\n",
            "                <pole>4.24231407611734e-05 0.000239480453850279 0.000809666981912087 0.002380721726\n",
            "                  0.00668298211801512 0.018460571103842 0.0507432795148089 0.139566676101156\n",
            "                  0.386518093984147 1.0931358903204 3.28474092123776 11.9081563867525\n",
            "                  93.4648015144787</pole>\n",
            "              </IPFECoeffs>\n",
            "            </RationalApprox>\n",
            "            <InvertParam>\n",
            "              <invType>CG_INVERTER</invType>\n",
            "              <RsdCG>1.0e-8</RsdCG>\n",
            "              <MaxCG>1000</MaxCG>\n",
            "            </InvertParam>\n",
            "          </ActionApprox>\n",
            "          <ForceApprox>\n",
            "            <RationalApprox>\n",
            "              <ratApproxType>READ_COEFFS</ratApproxType>\n",
            "              <Param>\n",
            "                <lowerMin>2.0e-4</lowerMin>\n",
            "                <upperMax>10</upperMax>\n",
            "                <numPower>-1</numPower>\n",
            "                <denPower>2</denPower>\n",
            "                <degree>12</degree>\n",
            "              </Param>\n",
            "              <ApproxInfo>\n",
            "                <lowerMin>0.0002</lowerMin>\n",
            "                <upperMax>10</upperMax>\n",
            "                <degree>12</degree>\n",
            "                <error>5.2284680862031e-08</error>\n",
            "              </ApproxInfo>\n",
            "              <PFECoeffs>\n",
            "                <norm>0.0547276831428071</norm>\n",
            "                <res>0.00507698729668402 0.0066151725685671 0.0101577938592028 0.0167794204884187\n",
            "                  0.0284928077171634 0.0488808001988765 0.0842952468229152 0.146367448808401\n",
            "                  0.258625107384016 0.481012357852968 1.04600847097866 3.86723649654098</res>\n",
            "                <pole>1.51480322230288e-05 0.000165259114300968 0.000661184012887753\n",
            "                  0.00214955953261573 0.00657190811374048 0.0197043312297316 0.0587640674448055\n",
            "                  0.175534749714768 0.529999019144126 1.6565878795396 5.78532483906374\n",
            "                  30.6835527589452</pole>\n",
            "              </PFECoeffs>\n",
            "              <IPFECoeffs>\n",
            "                <norm>18.2722882200328</norm>\n",
            "                <res>-3.67396011655789e-07 -2.79527600795379e-06 -1.56773360818779e-05\n",
            "                  -8.23503682881716e-05 -0.000424877064532166 -0.00218335514109711\n",
            "                  -0.0112605577342041 -0.0590061495274579 -0.324805216795793 -2.07825914676428\n",
            "                  -21.6648322084522 -1978.96735278723</res>\n",
            "                <pole>6.51815001904216e-05 0.000345702282177066 0.00120730087712331\n",
            "                  0.00377359188933919 0.011393755386041 0.0340344037940959 0.101500526796983\n",
            "                  0.304325618281001 0.930423172586555 3.02487652607464 12.1022069400519\n",
            "                  132.030350249685</pole>\n",
            "              </IPFECoeffs>\n",
            "            </RationalApprox>\n",
            "            <InvertParam>\n",
            "              <invType>CG_INVERTER</invType>\n",
            "              <RsdCG>1.0e-8</RsdCG>\n",
            "              <MaxCG>1000</MaxCG>\n",
            "            </InvertParam>\n",
            "          </ForceApprox>\n",
            "        </Action>\n",
            "        <NamedObject>\n",
            "          <monomial_id>HMC::strange</monomial_id>\n",
            "        </NamedObject>\n",
            "      </elem>\n",
            "\n",
            "TWO_FLAVOR_EOPREC\n",
            "\n",
            "    <Name>N_FLAVOR_LOGDET_EVEN_EVEN_FERM_MONOMIAL</Name>\n",
            "        <FermionAction>\n",
            "     <FermAct>CLOVER</FermAct>\n",
            "            <Mass>-0.02</Mass>\n",
            "            <clovCoeff>1.2</clovCoeff>\n",
            "          <FermionBC>\n",
            "            <FermBC>SIMPLE_FERMBC</FermBC>\n",
            "            <boundary>1 1 1 -1</boundary>\n",
            "          </FermionBC>\n",
            "        </FermionAction>\n",
            "    <num_flavors>2</num_flavors>\n",
            "    <NamedObject>\n",
            "       <monomial_id>HMC::light_ee</monomial_id>\n",
            "    </NamedObject>\n",
            "      </elem>\n",
            "\n",
            "      <elem>\n",
            "        <Name>TWO_FLAVOR_EOPREC_CONSTDET_FERM_MONOMIAL</Name>\n",
            "        <FermionAction>\n",
            "          <FermAct>CLOVER</FermAct>\n",
            "            <Mass>-0.02</Mass>\n",
            "            <clovCoeff>1.2</clovCoeff>\n",
            "          <FermState>\n",
            "           <Name>SIMPLE_FERM_STATE</Name>\n",
            "           <FermionBC>\n",
            "            <FermBC>SIMPLE_FERMBC</FermBC>\n",
            "                 <boundary>1 1 1 -1</boundary>\n",
            "            </FermionBC>\n",
            "          </FermState>\n",
            "        </FermionAction>\n",
            "            <InvertParam>\n",
            "              <invType>CG_INVERTER</invType>\n",
            "              <RsdCG>1.0e-8</RsdCG>\n",
            "              <MaxCG>1000</MaxCG>\n",
            "            </InvertParam>\n",
            "        <ChronologicalPredictor>\n",
            "        <Name>ZERO_GUESS_4D_PREDICTOR</Name>\n",
            "        </ChronologicalPredictor>\n",
            "        <NamedObject>\n",
            "          <monomial_id>HMC::light_oo</monomial_id>\n",
            "        </NamedObject>\n",
            "      </elem>\n",
            "\n",
            "LCM_STS_LEAPFROG\n",
            "\n",
            "        <Integrator>\n",
            "          <Name>LCM_STS_LEAPFROG</Name>\n",
            "          <n_steps>%(NSTEPS)s</n_steps>\n",
            "           <monomial_ids>\n",
            "             <elem>HMC::light_ee</elem>\n",
            "             <elem>HMC::light_oo</elem>\n",
            "             <elem>HMC::rat_strange</elem>\n",
            "             <elem>HMC::gauge</elem>\n",
            "           </monomial_ids>\n",
            "        </Integrator>\n",
            "\n",
            "\n",
            "        <Integrator>\n",
            "          <Name>LCM_STS_LEAPFROG</Name>\n",
            "          <n_steps>12</n_steps>\n",
            "           <monomial_ids>\n",
            "             <elem>HMC::light_ee</elem>\n",
            "             <elem>HMC::light_oo</elem>\n",
            "             <elem>HMC::rat_strange</elem>\n",
            "             <elem>HMC::gauge</elem>\n",
            "           </monomial_ids>\n",
            "        </Integrator>\n",
            "\n"
          ]
        }
      ]
    },
    {
      "cell_type": "code",
      "source": [
        "params.update({'VOL':' 4 4 4 8','CFG':'DISORDERED','NSTEPS':16,\n",
        "        'MONOMIALS':monomials,'MONOMIAL_IDS':params['Monomial_ids']})\n",
        "base_xml='/home/tests/template_hmc.ini.xml.txt'\n",
        "ini='/home/tests/hmc.ini.xml.txt'\n",
        "fin=open(base_xml)\n",
        "fout=open(ini,'w')\n",
        "fout.write(fin.read()%params)\n",
        "fin.close()\n",
        "fout.close()\n"
      ],
      "metadata": {
        "id": "zsefiK04rCCE"
      },
      "execution_count": 136,
      "outputs": []
    },
    {
      "cell_type": "code",
      "source": [
        "fout=open(ini)\n",
        "print(fout.read())\n",
        "fout.close()"
      ],
      "metadata": {
        "colab": {
          "base_uri": "https://localhost:8080/"
        },
        "collapsed": true,
        "id": "Alyw6Wt8tjVQ",
        "outputId": "c238b2b8-76e4-4926-8643-bce94d0ed7b2"
      },
      "execution_count": 11,
      "outputs": [
        {
          "output_type": "stream",
          "name": "stdout",
          "text": [
            "<?xml version=\"1.0\"?>\n",
            "<Params>\n",
            "<annotation>\n",
            " Here we reproduce the numerical studies on https://arxiv.org/pdf/1911.04533\n",
            " This xml corresponds to the X1 lattice on table 1\n",
            " beta=3.36\n",
            " k_u =1/(8+2mu_0) = 0.1366400 ->mu_0 = (2k)**-1-4 = -0.3407494145199066\n",
            " k_s =1/(8+2ms_0) = 0.1366400 ->mu_0 = (2k)**-1-4 = -0.3407494145199066\n",
            " csw=2.038765\n",
            "</annotation>\n",
            "  <MCControl>\n",
            "    <Cfg>\n",
            "      <cfg_type>DISORDERED</cfg_type>\n",
            "      <cfg_file>dummy</cfg_file>\n",
            "      <parallel_io>true</parallel_io>\n",
            "      <reunit>true</reunit>\n",
            "    </Cfg>\n",
            "    <RNG>\n",
            "      <Seed>\n",
            "        <elem>42</elem>\n",
            "        <elem>0</elem>\n",
            "        <elem>0</elem>\n",
            "        <elem>0</elem>\n",
            "      </Seed>\n",
            "    </RNG>\n",
            "    <StartUpdateNum>0</StartUpdateNum>\n",
            "    <NWarmUpUpdates>WARMUPS</NWarmUpUpdates>\n",
            "    <NProductionUpdates>PROD_UPDATES</NProductionUpdates>\n",
            "    <NUpdatesThisRun>NUPDATES</NUpdatesThisRun>\n",
            "    <SaveInterval>1</SaveInterval>\n",
            "    <SavePrefix>TuneProd</SavePrefix>\n",
            "    <SaveVolfmt>SINGLEFILE</SaveVolfmt>\n",
            "    <ParallelIO>false</ParallelIO>\n",
            "    <ReproCheckP>false</ReproCheckP>\n",
            "    <ReverseCheckP>false</ReverseCheckP>\n",
            "    <MonitorForces>true</MonitorForces>\n",
            "    <InlineMeasurements>\n",
            "      <elem>\n",
            "        <Name>POLYAKOV_LOOP</Name>\n",
            "        <Frequency>1</Frequency>\n",
            "        <Param>\n",
            "          <version>2</version>\n",
            "        </Param>\n",
            "        <NamedObject>\n",
            "          <gauge_id>default_gauge_field</gauge_id>\n",
            "        </NamedObject>\n",
            "      </elem>\n",
            "    </InlineMeasurements>\n",
            "  </MCControl>\n",
            "  <HMCTrj>\n",
            "    <nrow>VOL</nrow>\n",
            "    <Monomials>\n",
            "      MONOMIALS\n",
            "   </Monomials>\n",
            "    <Hamiltonian>\n",
            "      <monomial_ids>\n",
            "        MONOMIAL_IDS\n",
            "      </monomial_ids>\n",
            "    </Hamiltonian>\n",
            "    <MDIntegrator>\n",
            "        <tau0>1</tau0>\n",
            "        <Integrator>\n",
            "          <Name>LCM_STS_LEAPFROG</Name>\n",
            "          <n_steps>NSTEPS</n_steps>\n",
            "           <monomial_ids>\n",
            "              MONOMIAL_IDS\n",
            "           </monomial_ids>\n",
            "        </Integrator>\n",
            "    </MDIntegrator>\n",
            "  </HMCTrj>\n",
            "</Params>\n",
            "\n"
          ]
        }
      ]
    },
    {
      "cell_type": "markdown",
      "source": [
        "##Questions to answer\n",
        "\n",
        "\n",
        "\n",
        "1.   How does acceptance probability changes with different parameters?\n",
        "2.   How does time changes with changes in the parameters?\n",
        "\n",
        "\n"
      ],
      "metadata": {
        "id": "e1CNpA9YEMiy"
      }
    }
  ]
}